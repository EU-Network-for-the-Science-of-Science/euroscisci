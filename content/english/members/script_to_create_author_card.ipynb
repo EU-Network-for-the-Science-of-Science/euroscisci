{
 "cells": [
  {
   "cell_type": "code",
   "execution_count": null,
   "metadata": {},
   "outputs": [
    {
     "name": "stdout",
     "output_type": "stream",
     "text": [
      "Markdown files created in './' directory.\n"
     ]
    }
   ],
   "source": [
    "import os\n",
    "import unidecode\n",
    "\n",
    "# List of names provided\n",
    "names = [\n",
    "]\n",
    "\n",
    "# Directory to store the files\n",
    "output_dir = \"./\"\n",
    "os.makedirs(output_dir, exist_ok=True)\n",
    "\n",
    "# Function to generate a reasonable email and website\n",
    "def generate_email_website(name):\n",
    "    name_parts = unidecode.unidecode(name.lower()).split()\n",
    "    email = f\"{name_parts[0]}.{name_parts[-1]}@example.com\"\n",
    "    website = f\"https://www.example.com/{name_parts[0]}{name_parts[-1]}\"\n",
    "    return email, website\n",
    "\n",
    "# Generate MD files\n",
    "for name in names:\n",
    "    email, website = generate_email_website(name)\n",
    "    image_name = f\"{name.lower().replace(' ', '')}.png\"\n",
    "\n",
    "    md_content = f\"\"\"---\n",
    "title: {name}\n",
    "email: {email}\n",
    "image: \"/images/profiles/{image_name}\"\n",
    "website: {website}\n",
    "description: Researcher | Data Science | AI\n",
    "social:\n",
    "  - name: github\n",
    "    icon: fa-brands fa-github\n",
    "    link: https://github.com/{name.lower().replace(' ', '')}\n",
    "\n",
    "  - name: linkedin\n",
    "    icon: fa-brands fa-linkedin\n",
    "    link: https://www.linkedin.com/in/{name.lower().replace(' ', '')}\n",
    "  \n",
    "  - name: google scholar\n",
    "    icon: fab fa-google-scholar\n",
    "    link: https://scholar.google.com/citations?user={name.lower().replace(' ', '')}\n",
    "\n",
    "  - name: email\n",
    "    icon: fa fa-envelope\n",
    "    link: {email}\n",
    "\n",
    "  - name: website\n",
    "    icon: fa fa-globe\n",
    "    link: {website}\n",
    "---\n",
    "\"\"\"\n",
    "\n",
    "    # Save to file\n",
    "    filename = os.path.join(output_dir, f\"{name.lower().replace(' ', '_')}.md\")\n",
    "    with open(filename, \"w\", encoding=\"utf-8\") as file:\n",
    "        file.write(md_content)\n",
    "\n",
    "print(f\"Markdown files created in '{output_dir}' directory.\")"
   ]
  }
 ],
 "metadata": {
  "kernelspec": {
   "display_name": "base",
   "language": "python",
   "name": "python3"
  },
  "language_info": {
   "codemirror_mode": {
    "name": "ipython",
    "version": 3
   },
   "file_extension": ".py",
   "mimetype": "text/x-python",
   "name": "python",
   "nbconvert_exporter": "python",
   "pygments_lexer": "ipython3",
   "version": "3.11.5"
  }
 },
 "nbformat": 4,
 "nbformat_minor": 2
}
